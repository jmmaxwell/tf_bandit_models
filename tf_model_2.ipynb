{
 "cells": [
  {
   "cell_type": "code",
   "execution_count": 144,
   "metadata": {
    "collapsed": false
   },
   "outputs": [],
   "source": [
    "import os\n",
    "import numpy as np\n",
    "import tensorflow as tf\n",
    "from numpy import genfromtxt\n",
    "from tensorflow.python.util import compat"
   ]
  },
  {
   "cell_type": "code",
   "execution_count": 145,
   "metadata": {
    "collapsed": true
   },
   "outputs": [],
   "source": [
    "data = genfromtxt('/root/bandit/bandit_data.csv',\n",
    "                  delimiter=',', skip_header = 1, dtype = np.float32)"
   ]
  },
  {
   "cell_type": "code",
   "execution_count": 146,
   "metadata": {
    "collapsed": true
   },
   "outputs": [],
   "source": [
    "labels = data[:,5]\n",
    "num_labels = len(set(labels))\n",
    "labels = (np.arange(num_labels) == np.array(labels)[:,None]).astype(np.float32)"
   ]
  },
  {
   "cell_type": "code",
   "execution_count": 147,
   "metadata": {
    "collapsed": true
   },
   "outputs": [],
   "source": [
    "features = data[:,1:3]\n",
    "reward = data[:,3:4]\n",
    "probability = data[:,4:5]\n",
    "feature_size = 2"
   ]
  },
  {
   "cell_type": "code",
   "execution_count": 143,
   "metadata": {
    "collapsed": false
   },
   "outputs": [
    {
     "data": {
      "text/plain": [
       "(10000, 1)"
      ]
     },
     "execution_count": 143,
     "metadata": {},
     "output_type": "execute_result"
    }
   ],
   "source": [
    "reward.shape"
   ]
  },
  {
   "cell_type": "code",
   "execution_count": 168,
   "metadata": {
    "collapsed": true
   },
   "outputs": [],
   "source": [
    "x = tf.placeholder(tf.float32, [None, feature_size])\n",
    "\n",
    "W = tf.Variable(tf.truncated_normal([feature_size, num_labels]))\n",
    "b = tf.Variable(tf.truncated_normal([num_labels]))\n",
    "\n",
    "y = tf.nn.softmax(tf.matmul(x, W) + b)"
   ]
  },
  {
   "cell_type": "code",
   "execution_count": 175,
   "metadata": {
    "collapsed": false
   },
   "outputs": [],
   "source": [
    "y_ = tf.placeholder(tf.float32, [None, 3])\n",
    "reward_ = tf.placeholder(tf.float32, [None, 1])\n",
    "probability_ = tf.placeholder(tf.float32, [None, 1])\n",
    "\n",
    "arm_choice = tf.argmax(y, 1)\n",
    "input_label = tf.argmax(y_, 1)\n",
    "\n",
    "arm_equals_input = tf.cast(tf.equal(arm_choice, input_label), tf.float32)\n",
    "inverse_prop_score = -tf.divide(reward_, probability_)\n",
    "\n",
    "ips_output = tf.multiply(arm_equals_input, inverse_prop_score)\n",
    "cost = tf.reduce_mean(ips_output)\n",
    "\n",
    "optimizer = tf.contrib.opt.ScipyOptimizerInterface(cost, \n",
    "                                                   options={'maxiter': 100000},\n",
    "                                                  var_list = [W, b])"
   ]
  },
  {
   "cell_type": "code",
   "execution_count": 176,
   "metadata": {
    "collapsed": false
   },
   "outputs": [
    {
     "name": "stdout",
     "output_type": "stream",
     "text": [
      "INFO:tensorflow:Optimization terminated with:\n",
      "  Message: CONVERGENCE: NORM_OF_PROJECTED_GRADIENT_<=_PGTOL\n",
      "  Objective function value: -0.279767\n",
      "  Number of iterations: 0\n",
      "  Number of functions evaluations: 1\n",
      "W: [[ 0.56017971 -0.514314   -0.24636835]\n",
      " [-1.19200516  0.15526015 -0.03196505]] b: [-0.06614329  0.62429565 -0.76556677] loss: -0.279767\n"
     ]
    }
   ],
   "source": [
    "init = tf.global_variables_initializer()\n",
    "with tf.Session() as sess:\n",
    "    sess.run(init)\n",
    "    optimizer.minimize(sess, feed_dict = {x: features, y_: labels, reward_: reward, probability_: probability})\n",
    "    \n",
    "    curr_W, curr_b, curr_loss  = sess.run([W, b, cost], {x: features, y_: labels, reward_: reward, probability_: probability})\n",
    "    print(\"W: %s b: %s loss: %s\"%(curr_W, curr_b, curr_loss))\n",
    "\n",
    "# I don't think this is doing anything..."
   ]
  },
  {
   "cell_type": "code",
   "execution_count": null,
   "metadata": {
    "collapsed": true
   },
   "outputs": [],
   "source": []
  }
 ],
 "metadata": {
  "kernelspec": {
   "display_name": "Python 2",
   "language": "python",
   "name": "python2"
  },
  "language_info": {
   "codemirror_mode": {
    "name": "ipython",
    "version": 2
   },
   "file_extension": ".py",
   "mimetype": "text/x-python",
   "name": "python",
   "nbconvert_exporter": "python",
   "pygments_lexer": "ipython2",
   "version": "2.7.12"
  }
 },
 "nbformat": 4,
 "nbformat_minor": 2
}
