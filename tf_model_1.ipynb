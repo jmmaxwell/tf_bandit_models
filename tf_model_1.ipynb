{
 "cells": [
  {
   "cell_type": "code",
   "execution_count": 24,
   "metadata": {
    "collapsed": true,
    "deletable": true,
    "editable": true
   },
   "outputs": [],
   "source": [
    "import os\n",
    "import numpy as np\n",
    "import tensorflow as tf\n",
    "from numpy import genfromtxt\n",
    "from tensorflow.python.util import compat"
   ]
  },
  {
   "cell_type": "code",
   "execution_count": 25,
   "metadata": {
    "collapsed": true,
    "deletable": true,
    "editable": true
   },
   "outputs": [],
   "source": [
    "data = genfromtxt('/root/bandit/bandit_data.csv',\n",
    "                  delimiter=',', skip_header = 1, dtype = np.float32)"
   ]
  },
  {
   "cell_type": "code",
   "execution_count": 26,
   "metadata": {
    "collapsed": false,
    "deletable": true,
    "editable": true
   },
   "outputs": [],
   "source": [
    "labels = data[:,5]\n",
    "num_labels = len(set(labels))\n",
    "labels = (np.arange(num_labels) == np.array(labels)[:,None]).astype(np.float32)"
   ]
  },
  {
   "cell_type": "code",
   "execution_count": 27,
   "metadata": {
    "collapsed": true,
    "deletable": true,
    "editable": true
   },
   "outputs": [],
   "source": [
    "features = data[:,1:3]\n",
    "reward = data[:,3]\n",
    "probability = data[:,4]\n",
    "feature_size = 2"
   ]
  },
  {
   "cell_type": "code",
   "execution_count": 28,
   "metadata": {
    "collapsed": true,
    "deletable": true,
    "editable": true
   },
   "outputs": [],
   "source": [
    "graph = tf.Graph()\n",
    "\n",
    "with graph.as_default():\n",
    "    tf_train_dataset = tf.constant(features)\n",
    "    tf_train_labels = tf.constant(labels)\n",
    "\n",
    "    weights = tf.Variable(tf.truncated_normal([feature_size, num_labels]))\n",
    "    biases = tf.Variable(tf.zeros([num_labels]))\n",
    "\n",
    "    logits = tf.matmul(tf_train_dataset, weights) + biases\n",
    "    loss = tf.reduce_mean(\n",
    "        tf.nn.softmax_cross_entropy_with_logits(logits = logits, labels = tf_train_labels))\n",
    "\n",
    "    train_prediction = tf.nn.softmax(logits)\n",
    "\n",
    "    arm_choice = tf.argmax(train_prediction, 1)\n",
    "    input_label = tf.argmax(tf_train_labels, 1)\n",
    "\n",
    "    arm_equals_input = tf.cast(tf.equal(arm_choice, input_label), tf.float32)\n",
    "    inverse_prop_score = tf.constant(-reward/probability, dtype = tf.float32)\n",
    "\n",
    "    ips_output = tf.multiply(arm_equals_input, inverse_prop_score)\n",
    "\n",
    "    cost = tf.reduce_mean(ips_output)\n",
    "\n",
    "    optimizer = tf.contrib.opt.ScipyOptimizerInterface(cost, options={'maxiter': 1000000})"
   ]
  },
  {
   "cell_type": "code",
   "execution_count": 38,
   "metadata": {
    "collapsed": false,
    "deletable": true,
    "editable": true
   },
   "outputs": [],
   "source": [
    "model_version = 3\n",
    "path = os.path.join(\"/root/bandit/bad_bandit\", str(model_version))\n",
    "builder = tf.saved_model.builder.SavedModelBuilder(path)"
   ]
  },
  {
   "cell_type": "code",
   "execution_count": 39,
   "metadata": {
    "collapsed": true,
    "deletable": true,
    "editable": true
   },
   "outputs": [],
   "source": [
    "tensor_info_x = utils.build_tensor_info(tf_train_dataset)\n",
    "tensor_info_y = utils.build_tensor_info(train_prediction)"
   ]
  },
  {
   "cell_type": "code",
   "execution_count": 40,
   "metadata": {
    "collapsed": true,
    "deletable": true,
    "editable": true
   },
   "outputs": [],
   "source": [
    "prediction_signature = signature_def_utils.build_signature_def(\n",
    "      inputs={'features': tensor_info_x},\n",
    "      outputs={'scores': tensor_info_y},\n",
    "      method_name=signature_constants.PREDICT_METHOD_NAME)"
   ]
  },
  {
   "cell_type": "code",
   "execution_count": 34,
   "metadata": {
    "collapsed": false,
    "deletable": true,
    "editable": true
   },
   "outputs": [],
   "source": [
    "# legacy_init_op = tf.group(tf.tables_initializer(), name='legacy_init_op')"
   ]
  },
  {
   "cell_type": "code",
   "execution_count": 35,
   "metadata": {
    "collapsed": false,
    "deletable": true,
    "editable": true
   },
   "outputs": [
    {
     "name": "stdout",
     "output_type": "stream",
     "text": [
      "INFO:tensorflow:No assets to save.\n",
      "INFO:tensorflow:No assets to write.\n"
     ]
    }
   ],
   "source": [
    "# builder.add_meta_graph_and_variables(\n",
    "#       sess, [tag_constants.SERVING],\n",
    "#       signature_def_map={\n",
    "#           'predict_images':\n",
    "#               prediction_signature\n",
    "#       },\n",
    "#       legacy_init_op=legacy_init_op)"
   ]
  },
  {
   "cell_type": "code",
   "execution_count": 41,
   "metadata": {
    "collapsed": false,
    "deletable": true,
    "editable": true
   },
   "outputs": [
    {
     "name": "stdout",
     "output_type": "stream",
     "text": [
      "INFO:tensorflow:Optimization terminated with:\n",
      "  Message: CONVERGENCE: NORM_OF_PROJECTED_GRADIENT_<=_PGTOL\n",
      "  Objective function value: -0.370500\n",
      "  Number of iterations: 0\n",
      "  Number of functions evaluations: 1\n",
      "[-0.3705, array([[ 0.42081016,  0.36642113,  0.21276876],\n",
      "       [ 0.22417471,  0.55909765,  0.21672761],\n",
      "       [ 0.22417471,  0.55909765,  0.21672761],\n",
      "       ..., \n",
      "       [ 0.42081016,  0.36642113,  0.21276876],\n",
      "       [ 0.33333334,  0.33333334,  0.33333334],\n",
      "       [ 0.17312115,  0.49585745,  0.3310214 ]], dtype=float32)]\n",
      "INFO:tensorflow:No assets to save.\n",
      "INFO:tensorflow:No assets to write.\n",
      "INFO:tensorflow:SavedModel written to: /root/bandit/bad_bandit/3/saved_model.pb\n"
     ]
    }
   ],
   "source": [
    "with tf.Session(graph = graph) as sess:\n",
    "    tf.global_variables_initializer().run()\n",
    "    optimizer.minimize(sess)\n",
    "\n",
    "    print sess.run([cost, train_prediction])\n",
    "    \n",
    "    legacy_init_op = tf.group(tf.tables_initializer(), name='legacy_init_op')\n",
    "    \n",
    "    builder.add_meta_graph_and_variables(\n",
    "      sess, [tag_constants.SERVING],\n",
    "      signature_def_map={\n",
    "          'predict_arm':\n",
    "              prediction_signature\n",
    "      },\n",
    "      legacy_init_op=legacy_init_op)\n",
    "    builder.save()"
   ]
  },
  {
   "cell_type": "code",
   "execution_count": 44,
   "metadata": {
    "collapsed": false
   },
   "outputs": [],
   "source": [
    "!"
   ]
  }
 ],
 "metadata": {
  "kernelspec": {
   "display_name": "Python 2",
   "language": "python",
   "name": "python2"
  },
  "language_info": {
   "codemirror_mode": {
    "name": "ipython",
    "version": 2
   },
   "file_extension": ".py",
   "mimetype": "text/x-python",
   "name": "python",
   "nbconvert_exporter": "python",
   "pygments_lexer": "ipython2",
   "version": "2.7.12"
  }
 },
 "nbformat": 4,
 "nbformat_minor": 2
}
